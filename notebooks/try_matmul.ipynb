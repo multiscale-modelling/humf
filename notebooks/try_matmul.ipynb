{
 "cells": [
  {
   "cell_type": "code",
   "execution_count": 14,
   "metadata": {},
   "outputs": [],
   "source": [
    "import torch"
   ]
  },
  {
   "cell_type": "code",
   "execution_count": 15,
   "metadata": {},
   "outputs": [
    {
     "name": "stdout",
     "output_type": "stream",
     "text": [
      "tensor([[[6, 5, 8],\n",
      "         [0, 8, 9],\n",
      "         [3, 3, 3]],\n",
      "\n",
      "        [[4, 7, 3],\n",
      "         [7, 2, 2],\n",
      "         [6, 3, 3]]])\n",
      "torch.Size([2, 3, 3])\n"
     ]
    }
   ],
   "source": [
    "num_molecules = 2\n",
    "num_basis = 3\n",
    "num_dimensions = 3\n",
    "x = torch.randint(10, (num_molecules, num_basis, num_dimensions))\n",
    "print(x)\n",
    "print(x.shape)"
   ]
  },
  {
   "cell_type": "code",
   "execution_count": 16,
   "metadata": {},
   "outputs": [
    {
     "name": "stdout",
     "output_type": "stream",
     "text": [
      "tensor([[4, 8, 5],\n",
      "        [8, 8, 9],\n",
      "        [1, 5, 3],\n",
      "        [1, 9, 1]])\n",
      "torch.Size([4, 3])\n"
     ]
    }
   ],
   "source": [
    "num_sites = 4\n",
    "weights = torch.randint(10, (num_sites, num_basis))\n",
    "print(weights)\n",
    "print(weights.shape)"
   ]
  },
  {
   "cell_type": "code",
   "execution_count": 17,
   "metadata": {},
   "outputs": [
    {
     "name": "stdout",
     "output_type": "stream",
     "text": [
      "tensor([[[4, 8, 5],\n",
      "         [8, 8, 9],\n",
      "         [1, 5, 3],\n",
      "         [1, 9, 1]],\n",
      "\n",
      "        [[4, 8, 5],\n",
      "         [8, 8, 9],\n",
      "         [1, 5, 3],\n",
      "         [1, 9, 1]]])\n",
      "torch.Size([2, 4, 3])\n"
     ]
    }
   ],
   "source": [
    "print(weights.unsqueeze(0).expand(num_molecules, -1, -1))\n",
    "print(weights.unsqueeze(0).expand(num_molecules, -1, -1).shape)"
   ]
  },
  {
   "cell_type": "code",
   "execution_count": 18,
   "metadata": {},
   "outputs": [
    {
     "data": {
      "text/plain": [
       "tensor([[[ 39,  99, 119],\n",
       "         [ 75, 131, 163],\n",
       "         [ 15,  54,  62],\n",
       "         [  9,  80,  92]],\n",
       "\n",
       "        [[102,  59,  43],\n",
       "         [142,  99,  67],\n",
       "         [ 57,  26,  22],\n",
       "         [ 73,  28,  24]]])"
      ]
     },
     "execution_count": 18,
     "metadata": {},
     "output_type": "execute_result"
    }
   ],
   "source": [
    "torch.bmm(weights.unsqueeze(0).expand(num_molecules, -1, -1), x)"
   ]
  },
  {
   "cell_type": "code",
   "execution_count": null,
   "metadata": {},
   "outputs": [],
   "source": []
  }
 ],
 "metadata": {
  "kernelspec": {
   "display_name": "humf-oiMSL4y5-py3.12",
   "language": "python",
   "name": "python3"
  },
  "language_info": {
   "codemirror_mode": {
    "name": "ipython",
    "version": 3
   },
   "file_extension": ".py",
   "mimetype": "text/x-python",
   "name": "python",
   "nbconvert_exporter": "python",
   "pygments_lexer": "ipython3",
   "version": "2.7.undefined"
  }
 },
 "nbformat": 4,
 "nbformat_minor": 2
}
