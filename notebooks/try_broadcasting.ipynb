{
 "cells": [
  {
   "cell_type": "code",
   "execution_count": 34,
   "metadata": {},
   "outputs": [],
   "source": [
    "import torch"
   ]
  },
  {
   "cell_type": "code",
   "execution_count": 35,
   "metadata": {},
   "outputs": [
    {
     "name": "stdout",
     "output_type": "stream",
     "text": [
      "tensor([5, 0, 1, 2, 2, 4, 3, 5, 4, 7, 3, 8, 7, 9, 3, 8, 1, 9])\n"
     ]
    }
   ],
   "source": [
    "num_molecules = 2\n",
    "num_atoms = 3\n",
    "num_dimensions = 3\n",
    "x = torch.randint(10, (num_molecules * num_atoms * num_dimensions,))\n",
    "print(x)"
   ]
  },
  {
   "cell_type": "code",
   "execution_count": 36,
   "metadata": {},
   "outputs": [
    {
     "name": "stdout",
     "output_type": "stream",
     "text": [
      "tensor([[[5, 0, 1],\n",
      "         [2, 2, 4],\n",
      "         [3, 5, 4]],\n",
      "\n",
      "        [[7, 3, 8],\n",
      "         [7, 9, 3],\n",
      "         [8, 1, 9]]])\n"
     ]
    }
   ],
   "source": [
    "x = x.reshape(num_molecules, num_atoms, num_dimensions)\n",
    "print(x)"
   ]
  },
  {
   "cell_type": "code",
   "execution_count": 37,
   "metadata": {},
   "outputs": [
    {
     "name": "stdout",
     "output_type": "stream",
     "text": [
      "tensor([5, 0, 1])\n"
     ]
    }
   ],
   "source": [
    "r_O1 = x[0, 0]\n",
    "print(r_O1)"
   ]
  },
  {
   "cell_type": "code",
   "execution_count": 38,
   "metadata": {},
   "outputs": [
    {
     "data": {
      "text/plain": [
       "tensor([[[ 0,  0,  0],\n",
       "         [-3,  2,  3],\n",
       "         [-2,  5,  3]],\n",
       "\n",
       "        [[ 2,  3,  7],\n",
       "         [ 2,  9,  2],\n",
       "         [ 3,  1,  8]]])"
      ]
     },
     "execution_count": 38,
     "metadata": {},
     "output_type": "execute_result"
    }
   ],
   "source": [
    "x - r_O1"
   ]
  },
  {
   "cell_type": "code",
   "execution_count": 39,
   "metadata": {},
   "outputs": [
    {
     "name": "stdout",
     "output_type": "stream",
     "text": [
      "tensor([[5, 0, 1],\n",
      "        [7, 3, 8]])\n",
      "torch.Size([2, 3])\n"
     ]
    }
   ],
   "source": [
    "r_O = x[:, 0, :]\n",
    "print(r_O)\n",
    "print(r_O.shape)"
   ]
  },
  {
   "cell_type": "code",
   "execution_count": 40,
   "metadata": {},
   "outputs": [
    {
     "name": "stdout",
     "output_type": "stream",
     "text": [
      "tensor([[[5, 0, 1]],\n",
      "\n",
      "        [[7, 3, 8]]])\n",
      "torch.Size([2, 1, 3])\n"
     ]
    }
   ],
   "source": [
    "r_O_broadcasted = r_O[:, None, :]\n",
    "print(r_O_broadcasted)\n",
    "print(r_O_broadcasted.shape)"
   ]
  },
  {
   "cell_type": "code",
   "execution_count": 41,
   "metadata": {},
   "outputs": [
    {
     "name": "stdout",
     "output_type": "stream",
     "text": [
      "tensor([[[ 0,  0,  0],\n",
      "         [-3,  2,  3],\n",
      "         [-2,  5,  3]],\n",
      "\n",
      "        [[ 0,  0,  0],\n",
      "         [ 0,  6, -5],\n",
      "         [ 1, -2,  1]]])\n",
      "torch.Size([2, 3, 3])\n"
     ]
    }
   ],
   "source": [
    "y = x - r_O_broadcasted\n",
    "print(y)\n",
    "print(y.shape)"
   ]
  },
  {
   "cell_type": "code",
   "execution_count": 42,
   "metadata": {},
   "outputs": [
    {
     "name": "stdout",
     "output_type": "stream",
     "text": [
      "tensor([[-3,  2,  3],\n",
      "        [ 0,  6, -5]])\n",
      "tensor([[-2,  5,  3],\n",
      "        [ 1, -2,  1]])\n",
      "tensor([[ -9,   3, -11],\n",
      "        [ -4,  -5,  -6]])\n",
      "torch.Size([2, 3])\n"
     ]
    }
   ],
   "source": [
    "cross_products = torch.linalg.cross(y[:, 1, :], y[:, 2, :])\n",
    "print(y[:, 1, :])\n",
    "print(y[:, 2, :])\n",
    "print(cross_products)\n",
    "print(cross_products.shape)"
   ]
  },
  {
   "cell_type": "code",
   "execution_count": 45,
   "metadata": {},
   "outputs": [
    {
     "name": "stdout",
     "output_type": "stream",
     "text": [
      "tensor([[[ -9,   3, -11],\n",
      "         [ -3,   2,   3],\n",
      "         [ -2,   5,   3]],\n",
      "\n",
      "        [[ -4,  -5,  -6],\n",
      "         [  0,   6,  -5],\n",
      "         [  1,  -2,   1]]])\n",
      "torch.Size([2, 3, 3])\n"
     ]
    }
   ],
   "source": [
    "y[:, 0, :] = cross_products\n",
    "print(y)\n",
    "print(y.shape)"
   ]
  },
  {
   "cell_type": "code",
   "execution_count": null,
   "metadata": {},
   "outputs": [],
   "source": []
  }
 ],
 "metadata": {
  "kernelspec": {
   "display_name": "humf-oiMSL4y5-py3.12",
   "language": "python",
   "name": "python3"
  },
  "language_info": {
   "codemirror_mode": {
    "name": "ipython",
    "version": 3
   },
   "file_extension": ".py",
   "mimetype": "text/x-python",
   "name": "python",
   "nbconvert_exporter": "python",
   "pygments_lexer": "ipython3",
   "version": "3.12.4"
  }
 },
 "nbformat": 4,
 "nbformat_minor": 2
}
