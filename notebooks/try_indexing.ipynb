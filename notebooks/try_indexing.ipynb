{
 "cells": [
  {
   "cell_type": "code",
   "execution_count": 38,
   "metadata": {},
   "outputs": [],
   "source": [
    "import torch"
   ]
  },
  {
   "cell_type": "code",
   "execution_count": 39,
   "metadata": {},
   "outputs": [
    {
     "name": "stdout",
     "output_type": "stream",
     "text": [
      "tensor([1, 1, 1, 1, 2, 2, 2, 2])\n",
      "tensor([1, 1, 2, 2, 3, 3, 4, 4])\n",
      "tensor([[0.3563, 0.6403, 0.9999],\n",
      "        [0.3647, 0.3279, 0.3415],\n",
      "        [0.2687, 0.8052, 0.8887],\n",
      "        [0.5398, 0.9870, 0.7265],\n",
      "        [0.0278, 0.0429, 0.7752],\n",
      "        [0.3030, 0.4340, 0.4359],\n",
      "        [0.0296, 0.4386, 0.1591],\n",
      "        [0.2475, 0.5485, 0.4218]])\n"
     ]
    }
   ],
   "source": [
    "frame_batch = torch.tensor([1, 1, 1, 1, 2, 2, 2, 2])\n",
    "mol_batch = torch.tensor([1, 1, 2, 2, 3, 3, 4, 4])\n",
    "sites = torch.rand(frame_batch.size(0), 3)\n",
    "print(frame_batch)\n",
    "print(mol_batch)\n",
    "print(sites)"
   ]
  },
  {
   "cell_type": "code",
   "execution_count": 40,
   "metadata": {},
   "outputs": [
    {
     "name": "stdout",
     "output_type": "stream",
     "text": [
      "tensor([[ True,  True,  True,  True, False, False, False, False],\n",
      "        [ True,  True,  True,  True, False, False, False, False],\n",
      "        [ True,  True,  True,  True, False, False, False, False],\n",
      "        [ True,  True,  True,  True, False, False, False, False],\n",
      "        [False, False, False, False,  True,  True,  True,  True],\n",
      "        [False, False, False, False,  True,  True,  True,  True],\n",
      "        [False, False, False, False,  True,  True,  True,  True],\n",
      "        [False, False, False, False,  True,  True,  True,  True]])\n",
      "tensor([[False, False,  True,  True,  True,  True,  True,  True],\n",
      "        [False, False,  True,  True,  True,  True,  True,  True],\n",
      "        [ True,  True, False, False,  True,  True,  True,  True],\n",
      "        [ True,  True, False, False,  True,  True,  True,  True],\n",
      "        [ True,  True,  True,  True, False, False,  True,  True],\n",
      "        [ True,  True,  True,  True, False, False,  True,  True],\n",
      "        [ True,  True,  True,  True,  True,  True, False, False],\n",
      "        [ True,  True,  True,  True,  True,  True, False, False]])\n"
     ]
    }
   ],
   "source": [
    "same_frame = frame_batch.unsqueeze(0) == frame_batch.unsqueeze(1)\n",
    "different_mol = mol_batch.unsqueeze(0) != mol_batch.unsqueeze(1)\n",
    "print(same_frame)\n",
    "print(different_mol)"
   ]
  },
  {
   "cell_type": "code",
   "execution_count": 41,
   "metadata": {},
   "outputs": [
    {
     "name": "stdout",
     "output_type": "stream",
     "text": [
      "tensor([[False, False,  True,  True, False, False, False, False],\n",
      "        [False, False,  True,  True, False, False, False, False],\n",
      "        [ True,  True, False, False, False, False, False, False],\n",
      "        [ True,  True, False, False, False, False, False, False],\n",
      "        [False, False, False, False, False, False,  True,  True],\n",
      "        [False, False, False, False, False, False,  True,  True],\n",
      "        [False, False, False, False,  True,  True, False, False],\n",
      "        [False, False, False, False,  True,  True, False, False]])\n"
     ]
    }
   ],
   "source": [
    "valid_pairs = same_frame & different_mol\n",
    "print(valid_pairs)"
   ]
  },
  {
   "cell_type": "code",
   "execution_count": 42,
   "metadata": {},
   "outputs": [
    {
     "name": "stdout",
     "output_type": "stream",
     "text": [
      "torch.Size([16, 2])\n",
      "tensor([[0, 2],\n",
      "        [0, 3],\n",
      "        [1, 2],\n",
      "        [1, 3],\n",
      "        [2, 0],\n",
      "        [2, 1],\n",
      "        [3, 0],\n",
      "        [3, 1],\n",
      "        [4, 6],\n",
      "        [4, 7],\n",
      "        [5, 6],\n",
      "        [5, 7],\n",
      "        [6, 4],\n",
      "        [6, 5],\n",
      "        [7, 4],\n",
      "        [7, 5]])\n"
     ]
    }
   ],
   "source": [
    "indices = torch.nonzero(valid_pairs)\n",
    "print(indices.shape)\n",
    "print(indices)"
   ]
  },
  {
   "cell_type": "code",
   "execution_count": 43,
   "metadata": {},
   "outputs": [
    {
     "name": "stdout",
     "output_type": "stream",
     "text": [
      "torch.Size([16, 2, 3])\n",
      "tensor([[[0.3563, 0.6403, 0.9999],\n",
      "         [0.2687, 0.8052, 0.8887]],\n",
      "\n",
      "        [[0.3563, 0.6403, 0.9999],\n",
      "         [0.5398, 0.9870, 0.7265]],\n",
      "\n",
      "        [[0.3647, 0.3279, 0.3415],\n",
      "         [0.2687, 0.8052, 0.8887]],\n",
      "\n",
      "        [[0.3647, 0.3279, 0.3415],\n",
      "         [0.5398, 0.9870, 0.7265]],\n",
      "\n",
      "        [[0.2687, 0.8052, 0.8887],\n",
      "         [0.3563, 0.6403, 0.9999]],\n",
      "\n",
      "        [[0.2687, 0.8052, 0.8887],\n",
      "         [0.3647, 0.3279, 0.3415]],\n",
      "\n",
      "        [[0.5398, 0.9870, 0.7265],\n",
      "         [0.3563, 0.6403, 0.9999]],\n",
      "\n",
      "        [[0.5398, 0.9870, 0.7265],\n",
      "         [0.3647, 0.3279, 0.3415]],\n",
      "\n",
      "        [[0.0278, 0.0429, 0.7752],\n",
      "         [0.0296, 0.4386, 0.1591]],\n",
      "\n",
      "        [[0.0278, 0.0429, 0.7752],\n",
      "         [0.2475, 0.5485, 0.4218]],\n",
      "\n",
      "        [[0.3030, 0.4340, 0.4359],\n",
      "         [0.0296, 0.4386, 0.1591]],\n",
      "\n",
      "        [[0.3030, 0.4340, 0.4359],\n",
      "         [0.2475, 0.5485, 0.4218]],\n",
      "\n",
      "        [[0.0296, 0.4386, 0.1591],\n",
      "         [0.0278, 0.0429, 0.7752]],\n",
      "\n",
      "        [[0.0296, 0.4386, 0.1591],\n",
      "         [0.3030, 0.4340, 0.4359]],\n",
      "\n",
      "        [[0.2475, 0.5485, 0.4218],\n",
      "         [0.0278, 0.0429, 0.7752]],\n",
      "\n",
      "        [[0.2475, 0.5485, 0.4218],\n",
      "         [0.3030, 0.4340, 0.4359]]])\n"
     ]
    }
   ],
   "source": [
    "print(sites[indices].shape)\n",
    "print(sites[indices])"
   ]
  },
  {
   "cell_type": "code",
   "execution_count": 48,
   "metadata": {},
   "outputs": [
    {
     "name": "stdout",
     "output_type": "stream",
     "text": [
      "tensor([[0.3563, 0.6403, 0.9999],\n",
      "        [0.3563, 0.6403, 0.9999],\n",
      "        [0.3647, 0.3279, 0.3415],\n",
      "        [0.3647, 0.3279, 0.3415],\n",
      "        [0.2687, 0.8052, 0.8887],\n",
      "        [0.2687, 0.8052, 0.8887],\n",
      "        [0.5398, 0.9870, 0.7265],\n",
      "        [0.5398, 0.9870, 0.7265],\n",
      "        [0.0278, 0.0429, 0.7752],\n",
      "        [0.0278, 0.0429, 0.7752],\n",
      "        [0.3030, 0.4340, 0.4359],\n",
      "        [0.3030, 0.4340, 0.4359],\n",
      "        [0.0296, 0.4386, 0.1591],\n",
      "        [0.0296, 0.4386, 0.1591],\n",
      "        [0.2475, 0.5485, 0.4218],\n",
      "        [0.2475, 0.5485, 0.4218]])\n",
      "tensor([[0.3563, 0.6403, 0.9999],\n",
      "        [0.3563, 0.6403, 0.9999],\n",
      "        [0.3647, 0.3279, 0.3415],\n",
      "        [0.3647, 0.3279, 0.3415],\n",
      "        [0.2687, 0.8052, 0.8887],\n",
      "        [0.2687, 0.8052, 0.8887],\n",
      "        [0.5398, 0.9870, 0.7265],\n",
      "        [0.5398, 0.9870, 0.7265],\n",
      "        [0.0278, 0.0429, 0.7752],\n",
      "        [0.0278, 0.0429, 0.7752],\n",
      "        [0.3030, 0.4340, 0.4359],\n",
      "        [0.3030, 0.4340, 0.4359],\n",
      "        [0.0296, 0.4386, 0.1591],\n",
      "        [0.0296, 0.4386, 0.1591],\n",
      "        [0.2475, 0.5485, 0.4218],\n",
      "        [0.2475, 0.5485, 0.4218]])\n",
      "tensor([[True, True, True],\n",
      "        [True, True, True],\n",
      "        [True, True, True],\n",
      "        [True, True, True],\n",
      "        [True, True, True],\n",
      "        [True, True, True],\n",
      "        [True, True, True],\n",
      "        [True, True, True],\n",
      "        [True, True, True],\n",
      "        [True, True, True],\n",
      "        [True, True, True],\n",
      "        [True, True, True],\n",
      "        [True, True, True],\n",
      "        [True, True, True],\n",
      "        [True, True, True],\n",
      "        [True, True, True]])\n"
     ]
    }
   ],
   "source": [
    "site_pairs = sites[indices]\n",
    "print(site_pairs[:, 0])\n",
    "print(site_pairs[:, 0, :])\n",
    "print(site_pairs[:, 1] == site_pairs[:, 1, :])"
   ]
  },
  {
   "cell_type": "code",
   "execution_count": 51,
   "metadata": {},
   "outputs": [
    {
     "name": "stdout",
     "output_type": "stream",
     "text": [
      "torch.Size([16])\n",
      "tensor([0.2174, 0.4782, 0.7324, 0.7832, 0.2174, 0.7324, 0.4782, 0.7832, 0.7322,\n",
      "        0.6549, 0.3891, 0.1281, 0.7322, 0.3891, 0.6549, 0.1281])\n"
     ]
    }
   ],
   "source": [
    "distances = torch.norm(site_pairs[:, 0] - site_pairs[:, 1], dim=-1)\n",
    "print(distances.shape)\n",
    "print(distances)"
   ]
  },
  {
   "cell_type": "code",
   "execution_count": null,
   "metadata": {},
   "outputs": [],
   "source": []
  }
 ],
 "metadata": {
  "kernelspec": {
   "display_name": ".venv",
   "language": "python",
   "name": "python3"
  },
  "language_info": {
   "codemirror_mode": {
    "name": "ipython",
    "version": 3
   },
   "file_extension": ".py",
   "mimetype": "text/x-python",
   "name": "python",
   "nbconvert_exporter": "python",
   "pygments_lexer": "ipython3",
   "version": "3.11.9"
  }
 },
 "nbformat": 4,
 "nbformat_minor": 2
}
